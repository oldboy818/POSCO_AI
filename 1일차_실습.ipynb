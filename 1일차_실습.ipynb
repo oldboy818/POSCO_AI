{
 "cells": [
  {
   "cell_type": "markdown",
   "metadata": {},
   "source": [
    "# 실습 1"
   ]
  },
  {
   "cell_type": "code",
   "execution_count": 1,
   "metadata": {},
   "outputs": [
    {
     "name": "stdout",
     "output_type": "stream",
     "text": [
      "6 14\n",
      "6 14\n"
     ]
    }
   ],
   "source": [
    "def my_len(x):\n",
    "    count = 0\n",
    "    for i in x:\n",
    "        count += 1\n",
    "\n",
    "    return count\n",
    "\n",
    "a = [5, 5, 6, 7, 8, 3]\n",
    "b = 'Life is short.'\n",
    "\n",
    "print(len(a), len(b))\n",
    "print(my_len(a), my_len(b))"
   ]
  },
  {
   "cell_type": "markdown",
   "metadata": {},
   "source": [
    "# 실습 2"
   ]
  },
  {
   "cell_type": "code",
   "execution_count": 3,
   "metadata": {},
   "outputs": [
    {
     "name": "stdout",
     "output_type": "stream",
     "text": [
      "6\n",
      "120\n"
     ]
    }
   ],
   "source": [
    "def mult(a, b):\n",
    "    count = 1\n",
    "    for i in range(a, b+1):\n",
    "        count *= i\n",
    "    return count\n",
    "\n",
    "print(mult(1,3))\n",
    "\n",
    "print(mult(2,5))"
   ]
  },
  {
   "cell_type": "markdown",
   "metadata": {},
   "source": [
    "# 실습 3"
   ]
  },
  {
   "cell_type": "code",
   "execution_count": 4,
   "metadata": {},
   "outputs": [
    {
     "name": "stdout",
     "output_type": "stream",
     "text": [
      "7 -9\n",
      "1 -1\n"
     ]
    }
   ],
   "source": [
    "def sum_pos_neg(l):\n",
    "    sum_pos = 0\n",
    "    sum_neg = 0\n",
    "    for i in l:\n",
    "        if i >= 0:\n",
    "            sum_pos += i\n",
    "        if i < 0:\n",
    "            sum_neg += i\n",
    "    return (sum_pos, sum_neg)\n",
    "\n",
    "possum,negsum = sum_pos_neg([3,4,-6,-3])\n",
    "print(possum,negsum) # 7 -9\n",
    "\n",
    "mylist=[0,0,0,0,0,0,0,0,0,1,-1]\n",
    "possum2,negsum2 = sum_pos_neg(mylist)\n",
    "print(possum2,negsum2) # 1 -1"
   ]
  },
  {
   "cell_type": "markdown",
   "metadata": {},
   "source": [
    "# 실습 4 - 가변 매개변수"
   ]
  },
  {
   "cell_type": "code",
   "execution_count": null,
   "metadata": {},
   "outputs": [],
   "source": [
    "def vector_sum(vector, *vectors):\n",
    "    sum1 = 0\n",
    "    sum2 = 0\n",
    "    \n",
    "    for i in vectors:\n",
    "        sum1 += i[0]\n",
    "        sum2 += i[1]\n",
    "\n",
    "    return(sum1, sum2)"
   ]
  },
  {
   "cell_type": "code",
   "execution_count": null,
   "metadata": {},
   "outputs": [
    {
     "name": "stdout",
     "output_type": "stream",
     "text": [
      "(1.5, 0.5) (7.5, 4.5) (3.14, 2.72)\n"
     ]
    }
   ],
   "source": [
    "v1=[0, 1]\n",
    "v2=[0.5, 0.5]\n",
    "v3=[1, 0]\n",
    "v4=[6, 4]\n",
    "v5=[3.14, 2.72]\n",
    "m1 = vector_sum(v1, v2, v3)\n",
    "m2 = vector_sum(v1, v2, v3, v4)\n",
    "m3 = vector_sum(v3, v5)\n",
    "print(m1,m2,m3)"
   ]
  },
  {
   "cell_type": "markdown",
   "metadata": {},
   "source": [
    "# 실습 5 - 키워드 매개변수"
   ]
  },
  {
   "cell_type": "code",
   "execution_count": 5,
   "metadata": {},
   "outputs": [],
   "source": [
    "def merge_list(list1 = [0], list2 = [0]):\n",
    "    result = list1 + list2\n",
    "    result.sort()\n",
    "    # return result.sort() # 왜 이건 안됌??? 먼저 sort하면 되고, return에서 sort하면 안됌?\n",
    "    # sort는 반환값이 없는 함수. sorted(result)로 하면 됌.\n",
    "    return result"
   ]
  },
  {
   "cell_type": "code",
   "execution_count": 6,
   "metadata": {},
   "outputs": [
    {
     "name": "stdout",
     "output_type": "stream",
     "text": [
      "[1, 1, 2, 2, 3, 5, 9]\n",
      "[0, 4, 6, 9]\n",
      "[0, 0]\n"
     ]
    }
   ],
   "source": [
    "l = [3, 5, 9, 1, 2]\n",
    "ml1 = merge_list(l,[2,1])\n",
    "ml2 = merge_list([6,9,4])\n",
    "ml3 = merge_list()\n",
    "print(ml1) # [1, 1, 2, 2, 3, 5, 9]\n",
    "print(ml2) # [0, 4, 6, 9]\n",
    "print(ml3) # [0, 0]"
   ]
  },
  {
   "cell_type": "markdown",
   "metadata": {},
   "source": [
    "# 실습 6"
   ]
  },
  {
   "cell_type": "code",
   "execution_count": 8,
   "metadata": {},
   "outputs": [
    {
     "name": "stdout",
     "output_type": "stream",
     "text": [
      "** 로또 번호 자동 기입을 시작합니다 **\n",
      "1번째 자동 기입 ==>  13 19 21 22 37 43\n",
      "2번째 자동 기입 ==>  2 12 14 17 21 45\n",
      "3번째 자동 기입 ==>  9 10 15 23 31 32\n",
      "4번째 자동 기입 ==>  3 7 9 22 36 42\n",
      "5번째 자동 기입 ==>  5 7 30 37 38 39\n"
     ]
    }
   ],
   "source": [
    "import random\n",
    "\n",
    "num_list = list(range(1,46))\n",
    "\n",
    "print(\"** 로또 번호 자동 기입을 시작합니다 **\")\n",
    "\n",
    "for i in range(1,6):\n",
    "    nums = random.sample(num_list,6)\n",
    "    nums.sort()\n",
    "    print(\"%d번째 자동 기입 ==> \" %i, *nums) \n",
    "    # 순서열이 저장. 하나씩 반환해주겠다. *이 없다면 nums라는 리스트 하나만 넘어간다.\n",
    "    # "
   ]
  },
  {
   "cell_type": "markdown",
   "metadata": {},
   "source": [
    "# 실습 7"
   ]
  },
  {
   "cell_type": "code",
   "execution_count": null,
   "metadata": {},
   "outputs": [],
   "source": [
    "def get_min_max(l):\n",
    "    maximum = max(l)\n",
    "    minimum = min(l)\n",
    "\n",
    "    l.remove(maximum)\n",
    "    l.remove(minimum)\n",
    "\n",
    "    return (maximum, minimum)"
   ]
  },
  {
   "cell_type": "code",
   "execution_count": null,
   "metadata": {},
   "outputs": [
    {
     "name": "stdout",
     "output_type": "stream",
     "text": [
      "9\n",
      "1\n",
      "[3, 5, 2]\n"
     ]
    }
   ],
   "source": [
    "l = [3, 5, 9, 1, 2]\n",
    "min_val, max_val = get_min_max(l)\n",
    "print(min_val)\n",
    "print(max_val)\n",
    "print(l)"
   ]
  },
  {
   "cell_type": "markdown",
   "metadata": {},
   "source": [
    "# 실습 8"
   ]
  },
  {
   "cell_type": "code",
   "execution_count": null,
   "metadata": {},
   "outputs": [],
   "source": [
    "d1 = {'a': 1, 'b': 3, 'd': 7, 'e': 8}\n",
    "d2 = {'a': 2, 'c': 4, 'e': 1}\n",
    "\n",
    "keys = list(d1.keys()) + list(d2.keys())\n",
    "keys = list(set(keys))\n",
    "# print(keys)\n",
    "\n",
    "if keys[4] in d1:\n",
    "    print(\"12\")"
   ]
  },
  {
   "cell_type": "code",
   "execution_count": null,
   "metadata": {},
   "outputs": [],
   "source": [
    "def comb_dict(d1, d2):\n",
    "    keys = list(d1.keys()) + list(d2.keys())\n",
    "    keys = list(set(keys))\n",
    "\n",
    "    for i in keys:\n",
    "        if keys[i] in d1, d2:\n",
    "            \n",
    "    "
   ]
  },
  {
   "cell_type": "code",
   "execution_count": null,
   "metadata": {},
   "outputs": [
    {
     "name": "stdout",
     "output_type": "stream",
     "text": [
      "{'a': 1, 'b': 3, 'd': 7, 'e': 8}\n"
     ]
    }
   ],
   "source": [
    "def comb_dict(d1, d2):\n",
    "    d3 = {}\n",
    "    for k in d1:\n",
    "        d3[k] = d1[k]\n",
    "    for k in d2:\n",
    "        if k in d3:\n",
    "            d3[k] += d2[k]\n",
    "\n",
    "        else\n",
    "            \n",
    "            \n",
    "\n",
    "\n",
    "    return d3\n",
    "\n",
    "d1 = {'a': 1, 'b': 3, 'd': 7, 'e': 8}\n",
    "d2 = {'a': 2, 'c': 4, 'e': 1}\n",
    "d3 = comb_dict(d1, d2)\n",
    "print(d3)"
   ]
  },
  {
   "cell_type": "markdown",
   "metadata": {},
   "source": [
    "# 실습 9"
   ]
  },
  {
   "cell_type": "code",
   "execution_count": null,
   "metadata": {},
   "outputs": [
    {
     "name": "stdout",
     "output_type": "stream",
     "text": [
      "4\n",
      "300\n"
     ]
    },
    {
     "ename": "TypeError",
     "evalue": "diff() missing 1 required positional argument: 'b'",
     "output_type": "error",
     "traceback": [
      "\u001b[0;31m---------------------------------------------------------------------------\u001b[0m\n",
      "\u001b[0;31mTypeError\u001b[0m                                 Traceback (most recent call last)\n",
      "Cell \u001b[0;32mIn [66], line 9\u001b[0m\n",
      "\u001b[1;32m      7\u001b[0m \u001b[39mprint\u001b[39m(diff(\u001b[39m1\u001b[39m,\u001b[39m2\u001b[39m,\u001b[39m3\u001b[39m,\u001b[39m4\u001b[39m,\u001b[39m5\u001b[39m))\n",
      "\u001b[1;32m      8\u001b[0m \u001b[39mprint\u001b[39m(diff(\u001b[39m-\u001b[39m\u001b[39m100\u001b[39m, \u001b[39m200\u001b[39m))\n",
      "\u001b[0;32m----> 9\u001b[0m diff(\u001b[39m1\u001b[39;49m) \u001b[39m# 오류발생!\u001b[39;00m\n",
      "\n",
      "\u001b[0;31mTypeError\u001b[0m: diff() missing 1 required positional argument: 'b'"
     ]
    }
   ],
   "source": [
    "def diff(a,b, *nums):\n",
    "    maximum = max( (a,b) + nums)\n",
    "    minimum = min( (a,b) + nums)\n",
    "\n",
    "    return maximum - minimum\n",
    "\n",
    "print(diff(1,2,3,4,5))\n",
    "print(diff(-100, 200))\n",
    "diff(1) # 오류발생!"
   ]
  },
  {
   "cell_type": "code",
   "execution_count": null,
   "metadata": {},
   "outputs": [],
   "source": []
  }
 ],
 "metadata": {
  "kernelspec": {
   "display_name": "Python 3.9.13 ('base')",
   "language": "python",
   "name": "python3"
  },
  "language_info": {
   "codemirror_mode": {
    "name": "ipython",
    "version": 3
   },
   "file_extension": ".py",
   "mimetype": "text/x-python",
   "name": "python",
   "nbconvert_exporter": "python",
   "pygments_lexer": "ipython3",
   "version": "3.9.13"
  },
  "orig_nbformat": 4,
  "vscode": {
   "interpreter": {
    "hash": "ee1b9209f1cefa1e7b273170aafaa4796130c05296b45ddda45358f761485488"
   }
  }
 },
 "nbformat": 4,
 "nbformat_minor": 2
}
