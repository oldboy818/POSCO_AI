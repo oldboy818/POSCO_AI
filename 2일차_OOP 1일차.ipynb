{
 "cells": [
  {
   "cell_type": "code",
   "execution_count": 19,
   "metadata": {},
   "outputs": [
    {
     "name": "stdout",
     "output_type": "stream",
     "text": [
      "0\n",
      "500\n",
      "500\n",
      "200\n",
      "200\n"
     ]
    }
   ],
   "source": [
    "balance = 0\n",
    "\n",
    "def deposit(amount):\n",
    "    global balance\n",
    "    balance += amount\n",
    "    return balance\n",
    "\n",
    "def withdraw(amount):\n",
    "    global balance\n",
    "    balance -= amount\n",
    "    return balance\n",
    "\n",
    "print(balance)\n",
    "print(deposit(500))\n",
    "print(balance)\n",
    "print(withdraw(300))\n",
    "print(balance)"
   ]
  },
  {
   "cell_type": "code",
   "execution_count": 20,
   "metadata": {},
   "outputs": [
    {
     "name": "stdout",
     "output_type": "stream",
     "text": [
      "0\n",
      "0\n"
     ]
    },
    {
     "data": {
      "text/plain": [
       "<function print>"
      ]
     },
     "execution_count": 20,
     "metadata": {},
     "output_type": "execute_result"
    }
   ],
   "source": [
    "def make_account():\n",
    "    return {'balance': 0}\n",
    "\n",
    "def deposit(account, amount):\n",
    "    account['balance'] += account\n",
    "    return account['balance']\n",
    "\n",
    "def withdraw(account, amount):\n",
    "    account['balance'] -= amount\n",
    "    return account['balance']\n",
    "\n",
    "a = make_account()\n",
    "b = make_account()\n",
    "print(a['balance'])\n",
    "print(b['balance'])\n",
    "print\n"
   ]
  },
  {
   "cell_type": "markdown",
   "metadata": {},
   "source": [
    "# Class Object"
   ]
  },
  {
   "cell_type": "code",
   "execution_count": 21,
   "metadata": {},
   "outputs": [],
   "source": [
    "class Dog:\n",
    "    name = 'MongJa'\n",
    "\n",
    "    def bark(self):\n",
    "        return 'wal wal'"
   ]
  },
  {
   "cell_type": "markdown",
   "metadata": {},
   "source": [
    "# 특수 메서드 (Special Method)"
   ]
  },
  {
   "cell_type": "code",
   "execution_count": 22,
   "metadata": {},
   "outputs": [
    {
     "name": "stdout",
     "output_type": "stream",
     "text": [
      "init 함수 호출\n"
     ]
    }
   ],
   "source": [
    "class Sample:\n",
    "    def __init__(self) :\n",
    "        print(\"init 함수 호출\")\n",
    "\n",
    "a = Sample()"
   ]
  },
  {
   "cell_type": "code",
   "execution_count": 23,
   "metadata": {},
   "outputs": [],
   "source": [
    "class Building:\n",
    "\n",
    "    def __init__(self, name = '공학3동', h = 4):\n",
    "        self.name = name\n",
    "        self.h = h\n",
    "\n",
    "    def get_info(self):\n",
    "        print(\"건물 이름 : \", self.name)\n",
    "        print(\"층수 :\", self.h)"
   ]
  },
  {
   "cell_type": "code",
   "execution_count": 24,
   "metadata": {},
   "outputs": [
    {
     "name": "stdout",
     "output_type": "stream",
     "text": [
      "건물 이름 :  공학3동\n",
      "층수 : 4\n",
      "건물 이름 :  공학2동\n",
      "층수 : 5\n"
     ]
    }
   ],
   "source": [
    "a = Building()\n",
    "b = Building('공학2동', 5)\n",
    "\n",
    "a.get_info()\n",
    "b.get_info()\n"
   ]
  },
  {
   "cell_type": "code",
   "execution_count": 27,
   "metadata": {},
   "outputs": [],
   "source": [
    "class Human:\n",
    "    def __init__(self, name = '홍길동', age =29, h = 200, w = 80):\n",
    "        self.name = name\n",
    "        self.age = age\n",
    "        self.h = h\n",
    "        self.w = w\n",
    "    \n",
    "    def get_info(self):\n",
    "        print(\"이름 :\", self.name)\n",
    "        print(\"나이 : \", self.age)\n",
    "        print(\"키 : \", self.h)\n",
    "        print(\"몸무게 : \", self.w)\n",
    "        "
   ]
  },
  {
   "cell_type": "code",
   "execution_count": 28,
   "metadata": {},
   "outputs": [
    {
     "name": "stdout",
     "output_type": "stream",
     "text": [
      "이름 : 홍길동\n",
      "나이 :  29\n",
      "키 :  200\n",
      "몸무게 :  80\n",
      "이름 : 장동언\n",
      "나이 :  30\n",
      "키 :  201\n",
      "몸무게 :  81\n"
     ]
    }
   ],
   "source": [
    "a = Human()\n",
    "b = Human('장동언', 30, 201, 81)\n",
    "\n",
    "a.get_info()\n",
    "b.get_info()"
   ]
  },
  {
   "cell_type": "code",
   "execution_count": null,
   "metadata": {},
   "outputs": [],
   "source": []
  },
  {
   "cell_type": "markdown",
   "metadata": {},
   "source": [
    "# 상속 (Ingeritance)"
   ]
  },
  {
   "cell_type": "code",
   "execution_count": 29,
   "metadata": {},
   "outputs": [
    {
     "data": {
      "text/plain": [
       "[__main__.D, __main__.C, __main__.A, __main__.B, object]"
      ]
     },
     "execution_count": 29,
     "metadata": {},
     "output_type": "execute_result"
    }
   ],
   "source": [
    "class A:\n",
    "    a = 1\n",
    "    def print_a(self):\n",
    "        print(\"A class\")\n",
    "\n",
    "class B():\n",
    "    b = 1\n",
    "    def print_b(self):\n",
    "        print(\"B class\")\n",
    "\n",
    "class C(A):\n",
    "    c = 1\n",
    "    def print_c(self):\n",
    "        print(\"C class\")\n",
    "\n",
    "class D(C, B):\n",
    "    d = 1\n",
    "    def print_d(self):\n",
    "        print(\"D class\")\n",
    "\n",
    "c = C()\n",
    "d = D()\n",
    "\n",
    "D.mro()"
   ]
  },
  {
   "cell_type": "markdown",
   "metadata": {},
   "source": [
    "# 실습 문제1"
   ]
  },
  {
   "cell_type": "code",
   "execution_count": null,
   "metadata": {},
   "outputs": [
    {
     "name": "stdout",
     "output_type": "stream",
     "text": [
      "계좌정보 : none\n",
      "잔액 :  0\n",
      "계좌정보 : 장동언\n",
      "잔액 :  10000000000\n",
      "잔액 부족ㅋ\n",
      "계좌정보 : none\n",
      "잔액 :  0\n",
      "계좌정보 : 장동언\n",
      "잔액 :  9999990000\n"
     ]
    }
   ],
   "source": [
    "class BankAccount:\n",
    "    def __init__(self, balance = 0, name = 'none'):\n",
    "        self.balance = balance\n",
    "        self.name = name\n",
    "                \n",
    "    def deposit(self, amount):\n",
    "        self.balance += amount\n",
    "        \n",
    "    def withdraw(self, amount):\n",
    "        if amount > self.balance:\n",
    "            print(\"잔액 부족ㅋ\")\n",
    "        else:\n",
    "            self.balance -= amount        \n",
    "\n",
    "    def get_info(self):\n",
    "        print(\"계좌정보 :\", self.name)\n",
    "        print(\"잔액 : \", self.balance)\n",
    "\n",
    "a = BankAccount()\n",
    "b = BankAccount(10000000000, \"장동언\")\n",
    "\n",
    "a.get_info()\n",
    "b.get_info()\n",
    "\n",
    "a.withdraw(100)\n",
    "b.withdraw(10000)\n",
    "\n",
    "a.get_info()\n",
    "b.get_info()\n",
    "\n",
    "        "
   ]
  },
  {
   "cell_type": "markdown",
   "metadata": {},
   "source": [
    "# 실습 문제 2"
   ]
  },
  {
   "cell_type": "code",
   "execution_count": null,
   "metadata": {},
   "outputs": [],
   "source": [
    "class MinimumBalanceAccount():\n",
    "    def __init__(self, balance = 0, name = \"none\", min_bal = 0):\n",
    "        pass\n",
    "        self.balance = balance\n",
    "        self.name = name\n",
    "        self.min_bal = min_bal\n",
    "                \n",
    "    def deposit(self, amount):\n",
    "        self.balance += amount\n",
    "        \n",
    "    def withdraw(self, amount):\n",
    "        if amount > self.balance:\n",
    "            print(\"잔액 부족ㅋ\")\n",
    "        else:\n",
    "            self.balance -= amount        \n",
    "\n",
    "    def get_info(self):\n",
    "        print(\"계좌정보 :\", self.name)\n",
    "        print(\"잔액 : \", self.balance)\n",
    "\n",
    "acc = MinimumBalanceAccount(500, \"Kim\", 1000)\n",
    "acc.deposit(1000)\n",
    "acc.withdraw(600)"
   ]
  },
  {
   "cell_type": "code",
   "execution_count": null,
   "metadata": {},
   "outputs": [],
   "source": []
  }
 ],
 "metadata": {
  "kernelspec": {
   "display_name": "Python 3.9.13 ('base')",
   "language": "python",
   "name": "python3"
  },
  "language_info": {
   "codemirror_mode": {
    "name": "ipython",
    "version": 3
   },
   "file_extension": ".py",
   "mimetype": "text/x-python",
   "name": "python",
   "nbconvert_exporter": "python",
   "pygments_lexer": "ipython3",
   "version": "3.9.13"
  },
  "orig_nbformat": 4,
  "vscode": {
   "interpreter": {
    "hash": "ee1b9209f1cefa1e7b273170aafaa4796130c05296b45ddda45358f761485488"
   }
  }
 },
 "nbformat": 4,
 "nbformat_minor": 2
}
